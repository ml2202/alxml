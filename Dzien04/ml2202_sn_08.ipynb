{
  "nbformat": 4,
  "nbformat_minor": 0,
  "metadata": {
    "colab": {
      "name": "ml2202-sn-08.ipynb",
      "provenance": [],
      "collapsed_sections": []
    },
    "kernelspec": {
      "name": "python3",
      "display_name": "Python 3"
    },
    "language_info": {
      "name": "python"
    },
    "accelerator": "GPU"
  },
  "cells": [
    {
      "cell_type": "code",
      "execution_count": 1,
      "metadata": {
        "id": "Ki9_8ARb6ZYg"
      },
      "outputs": [],
      "source": [
        "import numpy as np\n",
        "import pandas as pd\n",
        "import matplotlib.pyplot as plt\n"
      ]
    },
    {
      "cell_type": "code",
      "source": [
        "from keras.models import Sequential\n",
        "from keras.layers import Dense, Flatten, Dropout, Conv2D, MaxPool2D\n",
        "from tensorflow.random import set_seed\n",
        "from keras.datasets.mnist import load_data\n",
        "from sklearn.model_selection import train_test_split"
      ],
      "metadata": {
        "id": "BHU6EFh-7E1Z"
      },
      "execution_count": 2,
      "outputs": []
    },
    {
      "cell_type": "code",
      "source": [
        "(X_train, y_train) , (X_test, y_test) = load_data()\n",
        "\n",
        "# normalizacja na skali 0-1\n",
        "X_train = X_train / 255\n",
        "X_test = X_test / 255\n",
        "\n",
        "X_train, X_val, y_train, y_val = train_test_split(X_train, y_train, test_size=.2, random_state=42)\n"
      ],
      "metadata": {
        "id": "h-kNogCZ73Yo",
        "colab": {
          "base_uri": "https://localhost:8080/"
        },
        "outputId": "572a4e60-0440-45c1-f866-a0cac64aebe1"
      },
      "execution_count": 3,
      "outputs": [
        {
          "output_type": "stream",
          "name": "stdout",
          "text": [
            "Downloading data from https://storage.googleapis.com/tensorflow/tf-keras-datasets/mnist.npz\n",
            "11493376/11490434 [==============================] - 0s 0us/step\n",
            "11501568/11490434 [==============================] - 0s 0us/step\n"
          ]
        }
      ]
    },
    {
      "cell_type": "code",
      "source": [
        "# wizualizacja dokładności\n",
        "def plot_accuracy(result):\n",
        "  plt.figure(figsize=(12,6))\n",
        "  plt.plot(result.history[\"accuracy\"], c=\"r\")\n",
        "  plt.plot(result.history[\"val_accuracy\"], c=\"b\")\n",
        "  plt.legend([\"accuracy\",\"val_accuracy\"])\n",
        "  plt.show()"
      ],
      "metadata": {
        "id": "qFGhwwk7S8Gw"
      },
      "execution_count": 4,
      "outputs": []
    },
    {
      "cell_type": "code",
      "source": [
        "X_train_cnn = X_train.reshape( len(X_train), 28, 28, 1 )\n",
        "X_val_cnn = X_val.reshape( len(X_val), 28, 28, 1 )\n",
        "X_test_cnn = X_test.reshape( len(X_test), 28, 28, 1 )\n",
        "\n",
        "set_seed(0)\n",
        "\n",
        "model = Sequential()\n",
        "model.add( Conv2D(64, kernel_size=(3,3), input_shape=(28,28,1), activation=\"relu\" ) )\n",
        "model.add( MaxPool2D(pool_size=(2,2)) )\n",
        "\n",
        "model.add(Dropout(.2))\n",
        "\n",
        "model.add(Flatten())\n",
        "model.add(Dense(128, activation=\"relu\"))\n",
        "model.add(Dense(10, activation=\"softmax\"))\n",
        "\n",
        "# kompilacja sieci\n",
        "model.compile(loss=\"sparse_categorical_crossentropy\", metrics=[\"accuracy\"])\n",
        "result = model.fit(X_train_cnn, y_train, epochs=15, validation_data=(X_val_cnn, y_val) )\n"
      ],
      "metadata": {
        "id": "fYLz_Y3YUesj"
      },
      "execution_count": null,
      "outputs": []
    },
    {
      "cell_type": "code",
      "source": [
        "model.evaluate(X_test_cnn, y_test)"
      ],
      "metadata": {
        "colab": {
          "base_uri": "https://localhost:8080/"
        },
        "id": "1Ch8IqhNYbGH",
        "outputId": "0f9ed322-ed1a-4a76-a85d-6e8c45a80d24"
      },
      "execution_count": 7,
      "outputs": [
        {
          "output_type": "stream",
          "name": "stdout",
          "text": [
            "313/313 [==============================] - 1s 3ms/step - loss: 0.0769 - accuracy: 0.9872\n"
          ]
        },
        {
          "output_type": "execute_result",
          "data": {
            "text/plain": [
              "[0.07694760710000992, 0.9872000217437744]"
            ]
          },
          "metadata": {},
          "execution_count": 7
        }
      ]
    },
    {
      "cell_type": "code",
      "source": [
        "plot_accuracy(result)"
      ],
      "metadata": {
        "colab": {
          "base_uri": "https://localhost:8080/",
          "height": 376
        },
        "id": "ZOgu4tqpYhhi",
        "outputId": "219a946e-ae82-4603-d0d4-fa2a79f4c6b7"
      },
      "execution_count": 8,
      "outputs": [
        {
          "output_type": "display_data",
          "data": {
            "image/png": "[encoded data removed]",
            "text/plain": [
              "<Figure size 864x432 with 1 Axes>"
            ]
          },
          "metadata": {
            "needs_background": "light"
          }
        }
      ]
    },
    {
      "cell_type": "code",
      "source": [
        "X_train_cnn = X_train.reshape( len(X_train), 28, 28, 1 )\n",
        "X_val_cnn = X_val.reshape( len(X_val), 28, 28, 1 )\n",
        "X_test_cnn = X_test.reshape( len(X_test), 28, 28, 1 )\n",
        "\n",
        "set_seed(0)\n",
        "\n",
        "model = Sequential()\n",
        "model.add( Conv2D(64, kernel_size=(3,3), input_shape=(28,28,1), activation=\"relu\" ) )\n",
        "model.add( MaxPool2D(pool_size=(2,2)) )\n",
        "model.add(Dropout(.2))\n",
        "\n",
        "model.add( Conv2D(128, kernel_size=(3,3), activation=\"relu\" ) )\n",
        "model.add( MaxPool2D(pool_size=(2,2)) )\n",
        "model.add(Dropout(.2))\n",
        "\n",
        "model.add(Flatten())\n",
        "model.add(Dense(128, activation=\"relu\"))\n",
        "model.add(Dense(10, activation=\"softmax\"))\n",
        "\n",
        "# kompilacja sieci\n",
        "model.compile(loss=\"sparse_categorical_crossentropy\", metrics=[\"accuracy\"])\n",
        "result = model.fit(X_train_cnn, y_train, epochs=15, validation_data=(X_val_cnn, y_val) )\n"
      ],
      "metadata": {
        "colab": {
          "base_uri": "https://localhost:8080/"
        },
        "id": "mGtoglnuYq3E",
        "outputId": "33a8c54c-6fef-4527-b189-aa7045140846"
      },
      "execution_count": 9,
      "outputs": [
        {
          "output_type": "stream",
          "name": "stdout",
          "text": [
            "Epoch 1/15\n",
            "1500/1500 [==============================] - 7s 4ms/step - loss: 0.1367 - accuracy: 0.9577 - val_loss: 0.0574 - val_accuracy: 0.9817\n",
            "Epoch 2/15\n",
            "1500/1500 [==============================] - 6s 4ms/step - loss: 0.0496 - accuracy: 0.9849 - val_loss: 0.0445 - val_accuracy: 0.9879\n",
            "Epoch 3/15\n",
            "1500/1500 [==============================] - 6s 4ms/step - loss: 0.0391 - accuracy: 0.9883 - val_loss: 0.0329 - val_accuracy: 0.9905\n",
            "Epoch 4/15\n",
            "1500/1500 [==============================] - 6s 4ms/step - loss: 0.0318 - accuracy: 0.9904 - val_loss: 0.0331 - val_accuracy: 0.9904\n",
            "Epoch 5/15\n",
            "1500/1500 [==============================] - 6s 4ms/step - loss: 0.0294 - accuracy: 0.9920 - val_loss: 0.0413 - val_accuracy: 0.9893\n",
            "Epoch 6/15\n",
            "1500/1500 [==============================] - 6s 4ms/step - loss: 0.0262 - accuracy: 0.9924 - val_loss: 0.0345 - val_accuracy: 0.9908\n",
            "Epoch 7/15\n",
            "1500/1500 [==============================] - 6s 4ms/step - loss: 0.0241 - accuracy: 0.9928 - val_loss: 0.0359 - val_accuracy: 0.9917\n",
            "Epoch 8/15\n",
            "1500/1500 [==============================] - 6s 4ms/step - loss: 0.0232 - accuracy: 0.9933 - val_loss: 0.0499 - val_accuracy: 0.9904\n",
            "Epoch 9/15\n",
            "1500/1500 [==============================] - 6s 4ms/step - loss: 0.0220 - accuracy: 0.9938 - val_loss: 0.0419 - val_accuracy: 0.9912\n",
            "Epoch 10/15\n",
            "1500/1500 [==============================] - 6s 4ms/step - loss: 0.0215 - accuracy: 0.9940 - val_loss: 0.0370 - val_accuracy: 0.9918\n",
            "Epoch 11/15\n",
            "1500/1500 [==============================] - 6s 4ms/step - loss: 0.0201 - accuracy: 0.9942 - val_loss: 0.0436 - val_accuracy: 0.9918\n",
            "Epoch 12/15\n",
            "1500/1500 [==============================] - 6s 4ms/step - loss: 0.0194 - accuracy: 0.9947 - val_loss: 0.0414 - val_accuracy: 0.9903\n",
            "Epoch 13/15\n",
            "1500/1500 [==============================] - 6s 4ms/step - loss: 0.0201 - accuracy: 0.9946 - val_loss: 0.0481 - val_accuracy: 0.9909\n",
            "Epoch 14/15\n",
            "1500/1500 [==============================] - 6s 4ms/step - loss: 0.0186 - accuracy: 0.9952 - val_loss: 0.0448 - val_accuracy: 0.9899\n",
            "Epoch 15/15\n",
            "1500/1500 [==============================] - 6s 4ms/step - loss: 0.0178 - accuracy: 0.9953 - val_loss: 0.0418 - val_accuracy: 0.9918\n"
          ]
        }
      ]
    },
    {
      "cell_type": "code",
      "source": [
        "model.evaluate(X_test_cnn, y_test)"
      ],
      "metadata": {
        "colab": {
          "base_uri": "https://localhost:8080/"
        },
        "id": "4ohPZX7zcXes",
        "outputId": "96e1203d-b48f-4fb6-d7c4-78550cbcc05d"
      },
      "execution_count": 10,
      "outputs": [
        {
          "output_type": "stream",
          "name": "stdout",
          "text": [
            "313/313 [==============================] - 2s 5ms/step - loss: 0.0440 - accuracy: 0.9897\n"
          ]
        },
        {
          "output_type": "execute_result",
          "data": {
            "text/plain": [
              "[0.04399362951517105, 0.9897000193595886]"
            ]
          },
          "metadata": {},
          "execution_count": 10
        }
      ]
    },
    {
      "cell_type": "code",
      "source": [
        "plot_accuracy(result)"
      ],
      "metadata": {
        "colab": {
          "base_uri": "https://localhost:8080/",
          "height": 374
        },
        "id": "MYMwyxF_c-Fi",
        "outputId": "d1cec6e7-5a0a-4941-ff0e-bb993e344c71"
      },
      "execution_count": 11,
      "outputs": [
        {
          "output_type": "display_data",
          "data": {
            "image/png": "[encoded data removed]",
            "text/plain": [
              "<Figure size 864x432 with 1 Axes>"
            ]
          },
          "metadata": {
            "needs_background": "light"
          }
        }
      ]
    },
    {
      "cell_type": "code",
      "source": [
        "IMG_INDEX = 2022\n",
        "y_test[IMG_INDEX]"
      ],
      "metadata": {
        "colab": {
          "base_uri": "https://localhost:8080/"
        },
        "id": "DUzm-45fdD9j",
        "outputId": "2597ec00-01e5-458a-f42d-9c34e6a058fb"
      },
      "execution_count": 56,
      "outputs": [
        {
          "output_type": "execute_result",
          "data": {
            "text/plain": [
              "4"
            ]
          },
          "metadata": {},
          "execution_count": 56
        }
      ]
    },
    {
      "cell_type": "code",
      "source": [
        "plt.imshow(X_test[IMG_INDEX], \"gray_r\")"
      ],
      "metadata": {
        "colab": {
          "base_uri": "https://localhost:8080/",
          "height": 283
        },
        "id": "-K79bJe3dmGh",
        "outputId": "3def0441-e9eb-4131-9684-e1d912e9366e"
      },
      "execution_count": 57,
      "outputs": [
        {
          "output_type": "execute_result",
          "data": {
            "text/plain": [
              "<matplotlib.image.AxesImage at 0x7f0fa9293a50>"
            ]
          },
          "metadata": {},
          "execution_count": 57
        },
        {
          "output_type": "display_data",
          "data": {
            "image/png": "[encoded data removed]",
            "text/plain": [
              "<Figure size 432x288 with 1 Axes>"
            ]
          },
          "metadata": {
            "needs_background": "light"
          }
        }
      ]
    },
    {
      "cell_type": "code",
      "source": [
        "model.predict(X_test[IMG_INDEX].reshape(1,28,28,1) )"
      ],
      "metadata": {
        "colab": {
          "base_uri": "https://localhost:8080/"
        },
        "id": "B3G53-tjdsBC",
        "outputId": "3fc4a10a-3230-4d1e-c7ea-e3b271c4fe20"
      },
      "execution_count": 58,
      "outputs": [
        {
          "output_type": "execute_result",
          "data": {
            "text/plain": [
              "array([[1.0282264e-31, 2.3197594e-18, 6.5197411e-25, 8.7146235e-27,\n",
              "        1.0000000e+00, 4.3141204e-18, 6.9958160e-23, 1.0189818e-20,\n",
              "        3.2346435e-17, 2.4149167e-14]], dtype=float32)"
            ]
          },
          "metadata": {},
          "execution_count": 58
        }
      ]
    },
    {
      "cell_type": "code",
      "source": [
        "np.argmax( model.predict(X_test[IMG_INDEX].reshape(1,28,28,1) ) )"
      ],
      "metadata": {
        "colab": {
          "base_uri": "https://localhost:8080/"
        },
        "id": "GBuYQHMDd80q",
        "outputId": "38feef5f-0c68-4b63-b59e-54413d1635f3"
      },
      "execution_count": 59,
      "outputs": [
        {
          "output_type": "execute_result",
          "data": {
            "text/plain": [
              "4"
            ]
          },
          "metadata": {},
          "execution_count": 59
        }
      ]
    },
    {
      "cell_type": "code",
      "source": [
        "np.random.seed(0)\n",
        "tmp = X_test[IMG_INDEX] + np.random.normal(0.4, 0.2, (28,28))\n",
        "plt.imshow(tmp, \"gray_r\")"
      ],
      "metadata": {
        "colab": {
          "base_uri": "https://localhost:8080/",
          "height": 283
        },
        "id": "YWlOlaUGeBuz",
        "outputId": "a9b251ca-253a-487b-c7ba-c8e26bf37600"
      },
      "execution_count": 62,
      "outputs": [
        {
          "output_type": "execute_result",
          "data": {
            "text/plain": [
              "<matplotlib.image.AxesImage at 0x7f0fa87e8f90>"
            ]
          },
          "metadata": {},
          "execution_count": 62
        },
        {
          "output_type": "display_data",
          "data": {
            "image/png": "[encoded data removed]",
            "text/plain": [
              "<Figure size 432x288 with 1 Axes>"
            ]
          },
          "metadata": {
            "needs_background": "light"
          }
        }
      ]
    },
    {
      "cell_type": "code",
      "source": [
        "np.argmax( model.predict(tmp.reshape(1,28,28,1) ) )"
      ],
      "metadata": {
        "colab": {
          "base_uri": "https://localhost:8080/"
        },
        "id": "jp1pFIBGeYAj",
        "outputId": "5a76ee5f-4f96-4c89-f5d5-d0386a9a6f51"
      },
      "execution_count": 63,
      "outputs": [
        {
          "output_type": "execute_result",
          "data": {
            "text/plain": [
              "4"
            ]
          },
          "metadata": {},
          "execution_count": 63
        }
      ]
    },
    {
      "cell_type": "code",
      "source": [
        "from scipy.ndimage.interpolation import rotate\n",
        "\n",
        "def crop_center(img, cropx, cropy):\n",
        "  x, y = img.shape\n",
        "  startx = x//2 - cropx//2\n",
        "  starty = y//2 - cropy//2\n",
        "  return img[ startx:startx+cropx, starty:starty+cropy ]\n"
      ],
      "metadata": {
        "id": "7ai_oxM6egsb"
      },
      "execution_count": 64,
      "outputs": []
    },
    {
      "cell_type": "code",
      "source": [
        "tmp = crop_center( rotate(X_test[IMG_INDEX], 30) , 28, 28 )\n",
        "plt.imshow(tmp, 'gray_r')\n",
        "\n",
        "print( np.argmax( model.predict(tmp.reshape(1,28,28,1) ) ) )"
      ],
      "metadata": {
        "colab": {
          "base_uri": "https://localhost:8080/",
          "height": 283
        },
        "id": "gZjU-UUnfKdS",
        "outputId": "0565fc81-8f1a-4c90-f85d-201beade299a"
      },
      "execution_count": 66,
      "outputs": [
        {
          "output_type": "stream",
          "name": "stdout",
          "text": [
            "4\n"
          ]
        },
        {
          "output_type": "display_data",
          "data": {
            "image/png": "[encoded data removed]",
            "text/plain": [
              "<Figure size 432x288 with 1 Axes>"
            ]
          },
          "metadata": {
            "needs_background": "light"
          }
        }
      ]
    },
    {
      "cell_type": "code",
      "source": [
        ""
      ],
      "metadata": {
        "id": "B03sBclvf8rN"
      },
      "execution_count": null,
      "outputs": []
    }
  ]
}